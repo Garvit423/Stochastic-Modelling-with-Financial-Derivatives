{
 "cells": [
  {
   "cell_type": "code",
   "execution_count": 8,
   "metadata": {},
   "outputs": [
    {
     "name": "stdout",
     "output_type": "stream",
     "text": [
      "Expected value of call option :  0.19569742558565562\n"
     ]
    }
   ],
   "source": [
    "from scipy.stats import norm\n",
    "import numpy as np\n",
    "\n",
    "#initialising the parameters\n",
    "S0 = 100 #initial price of the underlying asset\n",
    "K = 105 #strike price\n",
    "sigma = (5 * np.pi) ** (0.5) #10 days volatility\n",
    "d = (K - S0)/sigma \n",
    "\n",
    "Expected_payoff = (S0 - K)*(1-norm.cdf(d)) + sigma * norm.pdf(d)\n",
    "\n",
    "print(\"Expected value of call option : \",Expected_payoff) "
   ]
  }
 ],
 "metadata": {
  "kernelspec": {
   "display_name": "project",
   "language": "python",
   "name": "python3"
  },
  "language_info": {
   "codemirror_mode": {
    "name": "ipython",
    "version": 3
   },
   "file_extension": ".py",
   "mimetype": "text/x-python",
   "name": "python",
   "nbconvert_exporter": "python",
   "pygments_lexer": "ipython3",
   "version": "3.13.3"
  }
 },
 "nbformat": 4,
 "nbformat_minor": 2
}
